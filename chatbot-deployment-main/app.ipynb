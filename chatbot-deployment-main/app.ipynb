{
 "cells": [
  {
   "cell_type": "code",
   "execution_count": null,
   "id": "d02b105b",
   "metadata": {},
   "outputs": [
    {
     "name": "stdout",
     "output_type": "stream",
     "text": [
      " * Serving Flask app '__main__'\n",
      " * Debug mode: on\n"
     ]
    },
    {
     "name": "stderr",
     "output_type": "stream",
     "text": [
      "WARNING: This is a development server. Do not use it in a production deployment. Use a production WSGI server instead.\n",
      " * Running on http://127.0.0.1:5000\n",
      "Press CTRL+C to quit\n",
      "127.0.0.1 - - [10/Oct/2023 19:44:29] \"GET / HTTP/1.1\" 200 -\n",
      "127.0.0.1 - - [10/Oct/2023 19:44:31] \"GET /static/app.js HTTP/1.1\" 304 -\n",
      "127.0.0.1 - - [10/Oct/2023 19:44:31] \"GET /static/style.css HTTP/1.1\" 304 -\n",
      "127.0.0.1 - - [10/Oct/2023 19:44:31] \"GET /static/images/chatbox-icon.svg HTTP/1.1\" 304 -\n",
      "127.0.0.1 - - [11/Oct/2023 10:08:56] \"GET / HTTP/1.1\" 200 -\n",
      "127.0.0.1 - - [11/Oct/2023 10:08:56] \"GET /static/style.css HTTP/1.1\" 304 -\n",
      "127.0.0.1 - - [11/Oct/2023 10:08:56] \"GET /static/app.js HTTP/1.1\" 304 -\n",
      "127.0.0.1 - - [11/Oct/2023 10:08:56] \"GET /static/images/chatbox-icon.svg HTTP/1.1\" 304 -\n"
     ]
    }
   ],
   "source": [
    "from flask import Flask, render_template, request, jsonify\n",
    "from chat import get_response  # Import your chat module\n",
    "\n",
    "app = Flask(__name__)\n",
    "\n",
    "@app.route('/')\n",
    "def home():\n",
    "    return render_template('base.html')\n",
    "\n",
    "@app.route('/predict', methods=['POST'])\n",
    "def predict():\n",
    "    if request.method == 'POST':\n",
    "        user_message = request.json.get('message')\n",
    "        bot_response = get_response(user_message)  # Use the chat module\n",
    "        return jsonify({\"answer\": bot_response})\n",
    "\n",
    "if __name__ == '__main__':\n",
    "    app.run(host='127.0.0.1', port=5000, debug=True, use_reloader=False)\n"
   ]
  },
  {
   "cell_type": "code",
   "execution_count": null,
   "id": "ff4d4e67",
   "metadata": {},
   "outputs": [],
   "source": []
  }
 ],
 "metadata": {
  "kernelspec": {
   "display_name": "Python 3 (ipykernel)",
   "language": "python",
   "name": "python3"
  },
  "language_info": {
   "codemirror_mode": {
    "name": "ipython",
    "version": 3
   },
   "file_extension": ".py",
   "mimetype": "text/x-python",
   "name": "python",
   "nbconvert_exporter": "python",
   "pygments_lexer": "ipython3",
   "version": "3.9.13"
  }
 },
 "nbformat": 4,
 "nbformat_minor": 5
}
